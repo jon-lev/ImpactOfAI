{
 "cells": [
  {
   "cell_type": "code",
   "execution_count": 121,
   "id": "6db75adf",
   "metadata": {},
   "outputs": [
    {
     "name": "stdout",
     "output_type": "stream",
     "text": [
      "Total GPU Wattage: 2211826.22 W\n"
     ]
    }
   ],
   "source": [
    "import pandas as pd\n",
    "\n",
    "#Read gpuPower.csv\n",
    "df = pd.read_csv(\"/ihome/cs1699_2022s/jsl71/1699FinalProject/output/fold_10/gpuPower.csv\")\n",
    "\n",
    "#Remove \"W\" label from CSV\n",
    "df['power.draw [W]'] = df['power.draw [W]'].str.split(\" \").str[0]\n",
    "\n",
    "#Set values as floats\n",
    "df['power.draw [W]'] = df['power.draw [W]'].astype('float64') \n",
    "\n",
    "#Sum up all values\n",
    "gpuPower = (df['power.draw [W]'].sum())\n",
    "\n",
    "#Save CSV\n",
    "df.to_csv(\"gpuPowerConvert.csv\", encoding='utf-8', index=False)\n",
    "print(\"Total GPU Wattage: \" + str(gpuPower) + \" W\")"
   ]
  },
  {
   "cell_type": "code",
   "execution_count": 122,
   "id": "164fccc6",
   "metadata": {},
   "outputs": [
    {
     "name": "stdout",
     "output_type": "stream",
     "text": [
      "CPU Wattagw: 260444.37641199998 W\n",
      "DRAM Wattage: 42331.556306 W\n"
     ]
    }
   ],
   "source": [
    "cpu = pd.read_csv(\"/ihome/cs1699_2022s/jsl71/1699FinalProject/output/fold_10/cpuPower.csv\")\n",
    "\n",
    "#Convert microsecond to seconds\n",
    "cpu['duration'] = cpu['duration'] / 1000000\n",
    "\n",
    "#Convert microJoules to Watts\n",
    "cpu['pkg'] = cpu['pkg'] / 1000000\n",
    "\n",
    "#Convert microJoules to Watts\n",
    "cpu['dram'] = cpu['dram'] / 1000000\n",
    "\n",
    "#Sum up all values of cpu and dram usage\n",
    "cpuPower = cpu['pkg'].sum()\n",
    "ramPower = cpu['dram'].sum()\n",
    "\n",
    "print(\"CPU Wattagw: \" + str(cpuPower) + \" W\")\n",
    "print(\"DRAM Wattage: \" + str(ramPower) + \" W\")\n",
    "\n",
    "#Save converted CSV\n",
    "cpu.to_csv(\"cpuPowerConvert.csv\", encoding='utf-8', index=False)"
   ]
  },
  {
   "cell_type": "code",
   "execution_count": 123,
   "id": "d222d679",
   "metadata": {},
   "outputs": [
    {
     "name": "stdout",
     "output_type": "stream",
     "text": [
      "Overall wattage: 2514602.152718 W\n"
     ]
    }
   ],
   "source": [
    "totalWatts = cpuPower + ramPower + gpuPower\n",
    "print(\"Overall wattage: \" + str(totalWatts) + \" W\")"
   ]
  },
  {
   "cell_type": "code",
   "execution_count": null,
   "id": "3e1eeed4",
   "metadata": {},
   "outputs": [],
   "source": []
  }
 ],
 "metadata": {
  "kernelspec": {
   "display_name": "Python 3",
   "language": "python",
   "name": "python3"
  },
  "language_info": {
   "codemirror_mode": {
    "name": "ipython",
    "version": 3
   },
   "file_extension": ".py",
   "mimetype": "text/x-python",
   "name": "python",
   "nbconvert_exporter": "python",
   "pygments_lexer": "ipython3",
   "version": "3.8.5"
  }
 },
 "nbformat": 4,
 "nbformat_minor": 5
}
