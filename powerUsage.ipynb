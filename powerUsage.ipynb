{
 "cells": [
  {
   "cell_type": "code",
   "execution_count": 11,
   "id": "cd700fb3",
   "metadata": {
    "tags": []
   },
   "outputs": [
    {
     "name": "stdout",
     "output_type": "stream",
     "text": [
      "^C\n"
     ]
    }
   ],
   "source": [
    "#!nvidia-smi --query-gpu=power.draw --format=csv -l 1  > gpuPower.csv"
   ]
  },
  {
   "cell_type": "code",
   "execution_count": 16,
   "id": "d6f8049a",
   "metadata": {
    "tags": []
   },
   "outputs": [
    {
     "name": "stdout",
     "output_type": "stream",
     "text": [
      "^C\n"
     ]
    }
   ],
   "source": [
    "#Main Usage\n",
    "    #Run while BERTParse.ipynb is running and manually stop once testing finished\n",
    "#Have to remove the files so files don't concat\n",
    "#!rm gpuPower.csv\n",
    "!nvidia-smi --query-gpu=power.draw --format=csv -l 1  > gpuPower.csv"
   ]
  },
  {
   "cell_type": "code",
   "execution_count": 19,
   "id": "e21aa495",
   "metadata": {},
   "outputs": [
    {
     "name": "stdout",
     "output_type": "stream",
     "text": [
      "# gpu   pwr gtemp mtemp\n",
      "# Idx     W     C     C\n",
      "    0   211    77     -\n",
      "    1   200    82     -\n",
      "    2    14    27     -\n",
      "    3   209    81     -\n",
      "    0   218    77     -\n",
      "    1   202    82     -\n",
      "    2    14    28     -\n",
      "    3   217    81     -\n",
      "    0   217    77     -\n",
      "    1   201    82     -\n",
      "    2    14    28     -\n",
      "    3   217    81     -\n",
      "    0   216    77     -\n",
      "    1   201    81     -\n",
      "    2    14    28     -\n",
      "    3   216    81     -\n",
      "^C\n"
     ]
    }
   ],
   "source": [
    "#Another use of nvidia-smi to measure temperature and have index values\n",
    "#!nvidia-smi dmon -d 3 -s p"
   ]
  },
  {
   "cell_type": "code",
   "execution_count": null,
   "id": "8fe0bdfc",
   "metadata": {},
   "outputs": [],
   "source": []
  }
 ],
 "metadata": {
  "kernelspec": {
   "display_name": "Python 3",
   "language": "python",
   "name": "python3"
  },
  "language_info": {
   "codemirror_mode": {
    "name": "ipython",
    "version": 3
   },
   "file_extension": ".py",
   "mimetype": "text/x-python",
   "name": "python",
   "nbconvert_exporter": "python",
   "pygments_lexer": "ipython3",
   "version": "3.8.5"
  }
 },
 "nbformat": 4,
 "nbformat_minor": 5
}
